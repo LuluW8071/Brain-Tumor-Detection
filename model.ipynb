{
 "cells": [
  {
   "cell_type": "code",
   "execution_count": 38,
   "metadata": {},
   "outputs": [],
   "source": [
    "import numpy as np\n",
    "import pandas as pd\n",
    "import os \n",
    "from PIL import Image\n",
    "from glob import glob   # takes care of various extension of image files"
   ]
  },
  {
   "cell_type": "markdown",
   "metadata": {},
   "source": [
    "### Generating Datasets"
   ]
  },
  {
   "cell_type": "code",
   "execution_count": 39,
   "metadata": {},
   "outputs": [],
   "source": [
    "import torch \n",
    "import torch.nn as nn\n",
    "import torch.nn.functional as F \n",
    "import torch.optim as optim\n",
    "from torch.utils.data import Dataset\n",
    "\n",
    "from sklearn.utils import shuffle"
   ]
  },
  {
   "cell_type": "code",
   "execution_count": 40,
   "metadata": {},
   "outputs": [
    {
     "name": "stdout",
     "output_type": "stream",
     "text": [
      "gpu\n"
     ]
    }
   ],
   "source": [
    "if torch.cuda.is_available():\n",
    "    device=torch.device('cuda:0')\n",
    "    print('gpu')\n",
    "else:\n",
    "    device=torch.device('cpu')\n",
    "    print('cpu')"
   ]
  },
  {
   "cell_type": "code",
   "execution_count": 64,
   "metadata": {},
   "outputs": [],
   "source": [
    "# Creating child class 'BrainMRIDataset' from parent class 'Dataset'\n",
    "class BrainMRIDataset(Dataset):\n",
    "\n",
    "    def __init__(self, data_dir, reshape=True, height=128, width=128, autoencoder=False):\n",
    "        self.data_dir = data_dir\n",
    "        # No Brain Tumor MRIDataset\n",
    "        self.no_class = glob(data_dir+'/no/*')\n",
    "        # Yes Brain MRIDataset\n",
    "        self.yes_class = glob(data_dir+'/yes/*')\n",
    "\n",
    "        self.height = height\n",
    "        self.width = width\n",
    "        self.reshape = reshape\n",
    "        self.autoencoder = autoencoder\n",
    "\n",
    "        # return 0 if no tumor\n",
    "        labels = [0 for i in range(len(self.no_class))]\n",
    "        # return 1 if tumor exists\n",
    "        labels += [1 for i in range(len(self.yes_class))]\n",
    "\n",
    "        image_links = self.no_class + self.yes_class\n",
    "\n",
    "        self.df = pd.DataFrame({'image': image_links, 'labels': labels})\n",
    "        self.df.reset_index(inplace=True, drop=True)\n",
    "\n",
    "    def __len__(self):\n",
    "        return len(self.no_class)+len(self.yes_class)\n",
    "\n",
    "    def __getitem__(self, idx):\n",
    "        image_list = self.df['image'][idx]\n",
    "        label_list = self.df['labels'][idx]\n",
    "\n",
    "        if type(image_list) == str:\n",
    "            image_list = [image_list]\n",
    "\n",
    "        if not isinstance(label_list.values,np.int64):\n",
    "            label_list = label_list.values\n",
    "\n",
    "        image_array = []\n",
    "        \n",
    "        for image in image_list:\n",
    "            image = Image.open(image).convert(\"L\")\n",
    "\n",
    "            if self.reshape:\n",
    "                image = image.resize((self.height,self.width))\n",
    "\n",
    "        array = np.asarray(image)\n",
    "        array = array.reshape(1,self.height,self.width)\n",
    "        image_array.append(array)\n",
    "\n",
    "        return [torch.tensor(image_array,device=device),\n",
    "                torch.tensor(label_list,device=device)]\n",
    "\n",
    "    def __repr__(self):\n",
    "        return str(self.df.sample(10))"
   ]
  },
  {
   "cell_type": "code",
   "execution_count": 65,
   "metadata": {},
   "outputs": [],
   "source": [
    "\n",
    "dataset = BrainMRIDataset(\"brain_tumor_dataset\")"
   ]
  },
  {
   "cell_type": "code",
   "execution_count": 66,
   "metadata": {},
   "outputs": [
    {
     "name": "stdout",
     "output_type": "stream",
     "text": [
      "                                image  labels\n",
      "204   brain_tumor_dataset/yes\\Y42.jpg       1\n",
      "189   brain_tumor_dataset/yes\\Y29.jpg       1\n",
      "178  brain_tumor_dataset/yes\\Y252.jpg       1\n",
      "125   brain_tumor_dataset/yes\\Y15.jpg       1\n",
      "22   brain_tumor_dataset/no\\30 no.jpg       0\n",
      "155  brain_tumor_dataset/yes\\Y188.jpg       1\n",
      "236   brain_tumor_dataset/yes\\Y79.jpg       1\n",
      "216   brain_tumor_dataset/yes\\Y56.jpg       1\n",
      "109  brain_tumor_dataset/yes\\Y109.JPG       1\n",
      "29   brain_tumor_dataset/no\\37 no.jpg       0\n"
     ]
    }
   ],
   "source": [
    "print(dataset)"
   ]
  },
  {
   "cell_type": "markdown",
   "metadata": {},
   "source": [
    "### CNN Model\n"
   ]
  },
  {
   "cell_type": "code",
   "execution_count": 102,
   "metadata": {},
   "outputs": [],
   "source": [
    "class BrainTumorCNN(nn.Module):\n",
    "    def __init__(self):\n",
    "        super().__init__()\n",
    "\n",
    "        self.conv1 = nn.Sequential(\n",
    "            nn.Conv2d(1, 256, kernel_size=3),\n",
    "            nn.MaxPool2d(2, 2),\n",
    "            nn.Conv2d(256, 32, kernel_size=2)\n",
    "        )\n",
    "\n",
    "        self.linear1 = nn.Linear(62, 128)\n",
    "        self.linear2 = nn.Linear(128, 64)\n",
    "        self.flat = nn.Flatten(1)\n",
    "        self.linear3 = nn.Linear(126976,2)\n",
    "\n",
    "    def forward(self, x):\n",
    "        x = F.relu(self.conv1(x))\n",
    "        x = F.relu(self.linear1(x))\n",
    "        x = self.linear2(x)\n",
    "        x = self.flat(x)\n",
    "        x = self.linear3(x)\n",
    "\n",
    "        return x"
   ]
  },
  {
   "cell_type": "code",
   "execution_count": 103,
   "metadata": {},
   "outputs": [
    {
     "data": {
      "text/plain": [
       "BrainTumorCNN(\n",
       "  (conv1): Sequential(\n",
       "    (0): Conv2d(1, 256, kernel_size=(3, 3), stride=(1, 1))\n",
       "    (1): MaxPool2d(kernel_size=2, stride=2, padding=0, dilation=1, ceil_mode=False)\n",
       "    (2): Conv2d(256, 32, kernel_size=(2, 2), stride=(1, 1))\n",
       "  )\n",
       "  (linear1): Linear(in_features=62, out_features=128, bias=True)\n",
       "  (linear2): Linear(in_features=128, out_features=64, bias=True)\n",
       "  (flat): Flatten(start_dim=1, end_dim=-1)\n",
       "  (linear3): Linear(in_features=126976, out_features=2, bias=True)\n",
       ")"
      ]
     },
     "execution_count": 103,
     "metadata": {},
     "output_type": "execute_result"
    }
   ],
   "source": [
    "model = BrainTumorCNN()\n",
    "model.to(device)"
   ]
  },
  {
   "cell_type": "code",
   "execution_count": 104,
   "metadata": {},
   "outputs": [],
   "source": [
    "loss_fn = nn.CrossEntropyLoss()\n",
    "optimizer = optim.Adam(model.parameters(), lr=0.001)"
   ]
  }
 ],
 "metadata": {
  "kernelspec": {
   "display_name": "env",
   "language": "python",
   "name": "python3"
  },
  "language_info": {
   "codemirror_mode": {
    "name": "ipython",
    "version": 3
   },
   "file_extension": ".py",
   "mimetype": "text/x-python",
   "name": "python",
   "nbconvert_exporter": "python",
   "pygments_lexer": "ipython3",
   "version": "3.10.0"
  }
 },
 "nbformat": 4,
 "nbformat_minor": 2
}
