{
 "cells": [
  {
   "cell_type": "code",
   "execution_count": 1,
   "metadata": {},
   "outputs": [],
   "source": [
    "import numpy as np\n",
    "import pandas as pd\n",
    "import os \n",
    "from PIL import Image\n",
    "from glob import glob   # takes care of various extension of image files"
   ]
  },
  {
   "cell_type": "code",
   "execution_count": 2,
   "metadata": {},
   "outputs": [],
   "source": [
    "import torch \n",
    "import torch.nn as nn\n",
    "import torch.nn.functional as F \n",
    "from torch.utils.data import Dataset\n",
    "\n",
    "from sklearn.utils import shuffle"
   ]
  },
  {
   "cell_type": "code",
   "execution_count": 3,
   "metadata": {},
   "outputs": [
    {
     "name": "stdout",
     "output_type": "stream",
     "text": [
      "gpu\n"
     ]
    }
   ],
   "source": [
    "if torch.cuda.is_available():\n",
    "    device=torch.device('cuda:0')\n",
    "    print('gpu')\n",
    "else:\n",
    "    device=torch.device('cpu')\n",
    "    print('cpu')"
   ]
  },
  {
   "cell_type": "markdown",
   "metadata": {},
   "source": [
    "### Generating Datasets"
   ]
  },
  {
   "cell_type": "code",
   "execution_count": 35,
   "metadata": {},
   "outputs": [],
   "source": [
    "# Creating child class 'BrainMRIDataset' from parent class 'Dataset'\n",
    "class BrainMRIDataset(Dataset):\n",
    "\n",
    "    def __init__(self, data_dir, reshape=True, height=128, width=128, autoencoder=False):\n",
    "        self.data_dir = data_dir\n",
    "        # No Brain Tumor MRIDataset\n",
    "        self.no_class = glob(data_dir+'/no/*')\n",
    "        # Yes Brain MRIDataset\n",
    "        self.yes_class = glob(data_dir+'/yes/*')\n",
    "\n",
    "        self.height = height\n",
    "        self.width = width\n",
    "        self.reshape = reshape\n",
    "        self.autoencoder = autoencoder\n",
    "\n",
    "        # return 0 if no tumor\n",
    "        labels = [0 for i in range(len(self.no_class))]\n",
    "        # return 1 if tumor exists\n",
    "        labels += [1 for i in range(len(self.yes_class))]\n",
    "\n",
    "        image_links = self.no_class + self.yes_class\n",
    "\n",
    "        self.df = pd.DataFrame({'images': image_links, 'labels': labels})\n",
    "        self.df.reset_index(inplace=True, drop=True)\n",
    "\n",
    "    def __len__(self):\n",
    "        return len(self.no_class)+len(self.yes_class)\n",
    "\n",
    "    def __getitem(self, idx):\n",
    "        image_list = self.df['image'][idx]\n",
    "        label_list = self.df['labels'][idx]\n",
    "\n",
    "        if type(image_list) == str:\n",
    "            image_list = [image_list]\n",
    "\n",
    "        if not isinstance(label_list.values,np.int64):\n",
    "            label_list = label_list.values\n",
    "\n",
    "        image_array = []\n",
    "        \n",
    "        for image in image_list:\n",
    "            image = Image.open(image).convert(\"L\")\n",
    "\n",
    "            if self.reshape:\n",
    "                image = image.resize((self.height,self.width))\n",
    "\n",
    "        array = np.asarray(image)\n",
    "        array = array.reshape(1,self.height,self.width)\n",
    "        image_array.append(array)\n",
    "\n",
    "        return [torch.tensor(image_array,device=device),\n",
    "                torch.tensor(label_list,device=device)]\n",
    "\n",
    "    def __repr__(self):\n",
    "        return str(self.df.sample(10))"
   ]
  },
  {
   "cell_type": "code",
   "execution_count": 39,
   "metadata": {},
   "outputs": [],
   "source": [
    "\n",
    "dataset = BrainMRIDataset(\"brain_tumor_dataset\")"
   ]
  },
  {
   "cell_type": "code",
   "execution_count": 40,
   "metadata": {},
   "outputs": [
    {
     "name": "stdout",
     "output_type": "stream",
     "text": [
      "                               images  labels\n",
      "183  brain_tumor_dataset/yes\\Y257.jpg       1\n",
      "130  brain_tumor_dataset/yes\\Y157.JPG       1\n",
      "172  brain_tumor_dataset/yes\\Y247.JPG       1\n",
      "179  brain_tumor_dataset/yes\\Y253.JPG       1\n",
      "234   brain_tumor_dataset/yes\\Y77.jpg       1\n",
      "252   brain_tumor_dataset/yes\\Y99.JPG       1\n",
      "134  brain_tumor_dataset/yes\\Y160.JPG       1\n",
      "6    brain_tumor_dataset/no\\15 no.jpg       0\n",
      "214   brain_tumor_dataset/yes\\Y54.jpg       1\n",
      "54     brain_tumor_dataset/no\\N19.JPG       0\n"
     ]
    }
   ],
   "source": [
    "print(dataset)"
   ]
  }
 ],
 "metadata": {
  "kernelspec": {
   "display_name": "env",
   "language": "python",
   "name": "python3"
  },
  "language_info": {
   "codemirror_mode": {
    "name": "ipython",
    "version": 3
   },
   "file_extension": ".py",
   "mimetype": "text/x-python",
   "name": "python",
   "nbconvert_exporter": "python",
   "pygments_lexer": "ipython3",
   "version": "3.10.0"
  }
 },
 "nbformat": 4,
 "nbformat_minor": 2
}
